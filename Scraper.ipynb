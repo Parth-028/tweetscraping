{
  "nbformat": 4,
  "nbformat_minor": 0,
  "metadata": {
    "colab": {
      "provenance": []
    },
    "kernelspec": {
      "name": "python3",
      "display_name": "Python 3"
    },
    "language_info": {
      "name": "python"
    }
  },
  "cells": [
    {
      "cell_type": "code",
      "source": [
        "pip install ntscraper"
      ],
      "metadata": {
        "colab": {
          "base_uri": "https://localhost:8080/"
        },
        "id": "QKgwYA3jegtX",
        "outputId": "04bba479-1aba-4c9a-af18-f601e047a3ed"
      },
      "execution_count": 2,
      "outputs": [
        {
          "output_type": "stream",
          "name": "stdout",
          "text": [
            "Collecting ntscraper\n",
            "  Downloading ntscraper-0.3.13-py3-none-any.whl (11 kB)\n",
            "Requirement already satisfied: requests in /usr/local/lib/python3.10/dist-packages (from ntscraper) (2.31.0)\n",
            "Requirement already satisfied: beautifulsoup4 in /usr/local/lib/python3.10/dist-packages (from ntscraper) (4.12.3)\n",
            "Requirement already satisfied: lxml in /usr/local/lib/python3.10/dist-packages (from ntscraper) (4.9.4)\n",
            "Requirement already satisfied: soupsieve>1.2 in /usr/local/lib/python3.10/dist-packages (from beautifulsoup4->ntscraper) (2.5)\n",
            "Requirement already satisfied: charset-normalizer<4,>=2 in /usr/local/lib/python3.10/dist-packages (from requests->ntscraper) (3.3.2)\n",
            "Requirement already satisfied: idna<4,>=2.5 in /usr/local/lib/python3.10/dist-packages (from requests->ntscraper) (3.7)\n",
            "Requirement already satisfied: urllib3<3,>=1.21.1 in /usr/local/lib/python3.10/dist-packages (from requests->ntscraper) (2.0.7)\n",
            "Requirement already satisfied: certifi>=2017.4.17 in /usr/local/lib/python3.10/dist-packages (from requests->ntscraper) (2024.2.2)\n",
            "Installing collected packages: ntscraper\n",
            "Successfully installed ntscraper-0.3.13\n"
          ]
        }
      ]
    },
    {
      "cell_type": "code",
      "source": [
        "from ntscraper import Nitter\n",
        "import json"
      ],
      "metadata": {
        "id": "BagvdbbmeXZd"
      },
      "execution_count": 3,
      "outputs": []
    },
    {
      "cell_type": "code",
      "source": [
        "scraper = Nitter()"
      ],
      "metadata": {
        "colab": {
          "base_uri": "https://localhost:8080/"
        },
        "id": "HRRlN2sJgZpY",
        "outputId": "adb7e427-44db-40a7-f851-9fe6b20bdd4f"
      },
      "execution_count": 4,
      "outputs": [
        {
          "output_type": "stream",
          "name": "stderr",
          "text": [
            "Testing instances: 100%|██████████| 77/77 [01:11<00:00,  1.07it/s]\n"
          ]
        }
      ]
    },
    {
      "cell_type": "code",
      "source": [
        "finance_tweets = scraper.get_tweets('YahooFinance', mode='user', number=500)"
      ],
      "metadata": {
        "colab": {
          "base_uri": "https://localhost:8080/"
        },
        "id": "57Q2f_TCefAl",
        "outputId": "04e22fc7-bda8-41d3-f860-6b965df671aa"
      },
      "execution_count": 5,
      "outputs": [
        {
          "output_type": "stream",
          "name": "stderr",
          "text": [
            "INFO:root:No instance specified, using random instance https://nitter.esmailelbob.xyz\n",
            "INFO:root:Current stats for YahooFinance: 21 tweets, 0 threads...\n",
            "INFO:root:Current stats for YahooFinance: 40 tweets, 0 threads...\n",
            "INFO:root:Current stats for YahooFinance: 60 tweets, 0 threads...\n",
            "INFO:root:Current stats for YahooFinance: 80 tweets, 0 threads...\n",
            "INFO:root:Current stats for YahooFinance: 100 tweets, 0 threads...\n",
            "INFO:root:Current stats for YahooFinance: 120 tweets, 0 threads...\n",
            "INFO:root:Current stats for YahooFinance: 140 tweets, 0 threads...\n",
            "INFO:root:Current stats for YahooFinance: 160 tweets, 0 threads...\n",
            "INFO:root:Current stats for YahooFinance: 180 tweets, 0 threads...\n",
            "INFO:root:Current stats for YahooFinance: 200 tweets, 0 threads...\n",
            "INFO:root:Current stats for YahooFinance: 220 tweets, 0 threads...\n",
            "INFO:root:Current stats for YahooFinance: 240 tweets, 0 threads...\n",
            "INFO:root:Current stats for YahooFinance: 260 tweets, 0 threads...\n",
            "INFO:root:Current stats for YahooFinance: 280 tweets, 0 threads...\n",
            "INFO:root:Current stats for YahooFinance: 300 tweets, 0 threads...\n",
            "INFO:root:Current stats for YahooFinance: 320 tweets, 0 threads...\n",
            "INFO:root:Current stats for YahooFinance: 340 tweets, 0 threads...\n",
            "INFO:root:Current stats for YahooFinance: 360 tweets, 0 threads...\n",
            "INFO:root:Current stats for YahooFinance: 380 tweets, 0 threads...\n",
            "INFO:root:Current stats for YahooFinance: 400 tweets, 0 threads...\n",
            "INFO:root:Current stats for YahooFinance: 420 tweets, 0 threads...\n",
            "INFO:root:Current stats for YahooFinance: 440 tweets, 0 threads...\n",
            "INFO:root:Current stats for YahooFinance: 460 tweets, 0 threads...\n",
            "INFO:root:Current stats for YahooFinance: 480 tweets, 0 threads...\n",
            "INFO:root:Current stats for YahooFinance: 500 tweets, 0 threads...\n"
          ]
        }
      ]
    },
    {
      "cell_type": "code",
      "source": [
        "with open('yfin.json', 'w') as file:\n",
        "  json.dump(finance_tweets, file, indent=4)"
      ],
      "metadata": {
        "id": "BLG5KiB-eztx"
      },
      "execution_count": 6,
      "outputs": []
    }
  ]
}