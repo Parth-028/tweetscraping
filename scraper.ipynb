pip install ntscraper
from ntscraper import Nitter
import json

scraper = Nitter()

tweets = scraper.get_tweets('YahooFinance', mode='user', number=500)

with open('yfin.json', 'w') as file:
  json.dump(finance_tweets, file, indent=4)
